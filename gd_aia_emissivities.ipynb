{
 "cells": [
  {
   "cell_type": "markdown",
   "metadata": {},
   "source": [
    "# Calculate the AIA emissivities in each MURaM voxel."
   ]
  },
  {
   "cell_type": "code",
   "execution_count": 1,
   "metadata": {},
   "outputs": [],
   "source": [
    "import numpy as np\n",
    "import matplotlib.pyplot as plt\n",
    "import os\n",
    "from scipy.io import readsav\n",
    "from scipy.interpolate import griddata\n",
    "import sunpy.visualization.colormaps as cm\n",
    "\n",
    "work_dir = os.getcwd() + '/'\n",
    "plot_dir = work_dir + 'Plots/'\n",
    "\n",
    "data_dir = work_dir + 'MURaM_cubes/Flare/'\n",
    "\n",
    "cmap_94 = cm.cm.sdoaia94\n",
    "cmap_131 = cm.cm.sdoaia131\n",
    "cmap_171 = cm.cm.sdoaia171\n",
    "cmap_193 = cm.cm.sdoaia193\n",
    "cmap_211 = cm.cm.sdoaia211\n",
    "cmap_335 = cm.cm.sdoaia335\n",
    "cmap_304 = cm.cm.sdoaia304\n",
    "\n",
    "aia_wavs = ['94', '131', '171', '193', '211', '335', '304']\n",
    "aia_cmaps = [cmap_94, cmap_131, cmap_171, cmap_193, cmap_211, cmap_335, cmap_304]"
   ]
  },
  {
   "cell_type": "markdown",
   "metadata": {},
   "source": [
    "# Define custom temperature response functions (TRFs)"
   ]
  },
  {
   "cell_type": "code",
   "execution_count": 203,
   "metadata": {},
   "outputs": [],
   "source": [
    "dens_resp = 10**np.arange(5,15,0.5)"
   ]
  },
  {
   "cell_type": "code",
   "execution_count": 204,
   "metadata": {},
   "outputs": [
    {
     "data": {
      "text/plain": [
       "array([ 5. ,  5.5,  6. ,  6.5,  7. ,  7.5,  8. ,  8.5,  9. ,  9.5, 10. ,\n",
       "       10.5, 11. , 11.5, 12. , 12.5, 13. , 13.5, 14. , 14.5])"
      ]
     },
     "execution_count": 204,
     "metadata": {},
     "output_type": "execute_result"
    }
   ],
   "source": [
    "np.log10(dens_resp)"
   ]
  },
  {
   "cell_type": "markdown",
   "metadata": {},
   "source": [
    "# Load TRFs for each AIA EUV channel"
   ]
  },
  {
   "cell_type": "code",
   "execution_count": 4,
   "metadata": {},
   "outputs": [],
   "source": [
    "# Load the AIA temperature response functions.\n",
    "\n",
    "# aia_resp.sav -> sun_coronal_2012_schmelz.abund\n",
    "# aia_resp3.sav -> sun_coronal_1992_feldman_ext.abund\n",
    "\n",
    "sav_data = readsav(work_dir + 'aia_resp_grid.sav', python_dict=False)\n",
    "\n",
    "#sav_data = readsav(work_dir + 'DEM/aia_resp3.sav', python_dict=False)  # With evenorm set.\n",
    "#sav_data1 = readsav(work_dir + 'DEM/aia_resp4.sav', python_dict=False)\n",
    "\n",
    "#aia_tr_temp = sav_data['aia_resp']['temperatures'][0]\n",
    "#aia_tr_comment = [n.decode('utf-8', 'ignore') for n in sav_data['aia_resp']['comment'][0]]\n",
    "#aia_resp = np.zeros([6, sav_data['aia_resp']['temperatures'][0].shape[0]])\n",
    "#aia_resp[0, :] = sav_data['aia_resp']['resp_94'][0]\n",
    "#aia_resp[1, :] = sav_data['aia_resp']['resp_131'][0]\n",
    "#aia_resp[2, :] = sav_data['aia_resp']['resp_171'][0]\n",
    "#aia_resp[3, :] = sav_data['aia_resp']['resp_193'][0]\n",
    "#aia_resp[4, :] = sav_data['aia_resp']['resp_211'][0]\n",
    "#aia_resp[5, :] = sav_data['aia_resp']['resp_335'][0]\n",
    "dens_trf = sav_data['aia_resp_grid'][0]['dens'] # Density array with N=20 \n",
    "# Contains a series of N=20 TRFs, each computed for each density\n",
    "aia_resp_all = sav_data['aia_resp_grid'][0]['aia_resp_all']  \n",
    "\n",
    "temp_trf = aia_resp_all[0]['temperatures'] # Temperature array for computing each TRF\n",
    "aia_resp_trf = np.zeros([6, dens_trf.shape[0], temp_trf.shape[0]])\n",
    "\n",
    "for i in range(dens_trf.shape[0]):\n",
    "    aia_resp_trf[0,i,:] = aia_resp_all[i]['resp_94']\n",
    "    aia_resp_trf[1,i,:] = aia_resp_all[i]['resp_131']\n",
    "    aia_resp_trf[2,i,:] = aia_resp_all[i]['resp_171']\n",
    "    aia_resp_trf[3,i,:] = aia_resp_all[i]['resp_193']\n",
    "    aia_resp_trf[4,i,:] = aia_resp_all[i]['resp_211']\n",
    "    aia_resp_trf[5,i,:] = aia_resp_all[i]['resp_335']"
   ]
  },
  {
   "cell_type": "code",
   "execution_count": 5,
   "metadata": {},
   "outputs": [
    {
     "data": {
      "text/plain": [
       "array([5.        , 5.09999991, 5.19999981, 5.30000018, 5.4000001 ,\n",
       "       5.50000002, 5.59999992, 5.6999998 , 5.80000019, 5.90000011,\n",
       "       6.        , 6.0999999 , 6.19999981, 6.3000002 , 6.4000001 ,\n",
       "       6.50000001, 6.5999999 , 6.6999998 , 6.80000018, 6.90000009,\n",
       "       7.        , 7.10000038, 7.19999981, 7.30000019, 7.4000001 ,\n",
       "       7.49999999])"
      ]
     },
     "execution_count": 5,
     "metadata": {},
     "output_type": "execute_result"
    }
   ],
   "source": [
    "np.log10(temp_trf)"
   ]
  },
  {
   "cell_type": "code",
   "execution_count": 6,
   "metadata": {},
   "outputs": [
    {
     "data": {
      "text/plain": [
       "(6, 20, 26)"
      ]
     },
     "execution_count": 6,
     "metadata": {},
     "output_type": "execute_result"
    }
   ],
   "source": [
    "aia_resp_trf.shape"
   ]
  },
  {
   "cell_type": "code",
   "execution_count": 7,
   "metadata": {},
   "outputs": [
    {
     "data": {
      "application/vnd.jupyter.widget-view+json": {
       "model_id": "d9e5b55d0dfd43b9acff48308cbce81a",
       "version_major": 2,
       "version_minor": 0
      },
      "text/plain": [
       "Canvas(toolbar=Toolbar(toolitems=[('Home', 'Reset original view', 'home', 'home'), ('Back', 'Back to previous …"
      ]
     },
     "metadata": {},
     "output_type": "display_data"
    }
   ],
   "source": [
    "# Plot the TRFs for each AIA channel.\n",
    "# It is noticeable that the TRFs are strong functions of temperature but much weaker functions of \n",
    "# density. However, some of the channels (e.g. 171) do show larger variations with density. \n",
    "\n",
    "%matplotlib widget\n",
    "\n",
    "#image_display, ax = plt.subplots(nrows=2, ncols=3, sharex=True, sharey=False, figsize=[7, 10], dpi=100)         \n",
    "image_display = plt.figure(figsize=[10, 7], dpi=100)\n",
    "\n",
    "ax = []\n",
    "for i in range(6):\n",
    "    ax.append(image_display.add_subplot(2,3,i+1, projection='3d'))\n",
    "\n",
    "image_display.subplots_adjust(bottom=0.1, top=0.9, left=0.05, right=0.95,                               \n",
    "                              wspace=0.2, hspace=0.2) \n",
    "    \n",
    "filters = ['AIA 94', 'AIA 131', 'AIA 171', 'AIA 193', 'AIA 211', 'AIA 335']\n",
    "\n",
    "xx,yy = np.meshgrid(temp_trf,dens_trf)\n",
    "for i in range(6):\n",
    "    f = aia_resp_trf[i,:,:]  # Select the function to plot.\n",
    "    surf = ax[i].plot_surface(np.log10(xx), np.log10(yy), f, rstride=1, cstride=1, cmap='coolwarm', edgecolor='none')\n",
    "    ax[i].set_xlabel('log(T[K])')\n",
    "    ax[i].set_ylabel('log(n$_{e}$[cm$^{-3}$])')\n",
    "    ax[i].set_zlabel('DN  s$^{-1}$ pixel$^{-1}$ cm$^{5}$')\n",
    "    ax[i].set_title(filters[i])\n",
    "    #image_display.colorbar(surf, shrink=0.5, aspect=5) # add color bar indicating the PDF\n",
    "    ax[i].view_init(20, 60)"
   ]
  },
  {
   "cell_type": "code",
   "execution_count": 8,
   "metadata": {},
   "outputs": [],
   "source": [
    "# Create the interpolated function and calculate it at the desired densities/temperatures.\n",
    "\n",
    "f = aia_resp_trf[2,:,:] # Load a 2D density x temperature temperature response function.\n",
    "\n",
    "grid_custom = np.asarray([[7,6.1], [7.2,6.1], [8,6.4], [9, 5.9]])  # Find data at these custom points.\n",
    "\n",
    "xxx,yyy = np.meshgrid(np.log10(dens_trf),np.log10(temp_trf))  # Reform the density and temperature arrays.\n",
    "dens_temp = np.asarray([xxx.flatten(), yyy.flatten()]).transpose()\n",
    "\n",
    "grid_test = griddata(dens_temp, f.flatten(), grid_custom, method='cubic')  # Find the interpolated values.\n",
    "# I should be able to replace grid_custom = (density(x,y,z), temperature(x,y,z)) and the result with be in (x,y,z)\n",
    "# which is the shape of the data cubes."
   ]
  },
  {
   "cell_type": "markdown",
   "metadata": {},
   "source": [
    "\n",
    "\n",
    "## Online example for using the griddata function"
   ]
  },
  {
   "cell_type": "code",
   "execution_count": 216,
   "metadata": {},
   "outputs": [],
   "source": [
    "# Online example for using the griddata function\n",
    "\n",
    "def func(x, y):\n",
    "    return x*(1-x)*np.cos(4*np.pi*x) * np.sin(4*np.pi*y**2)**2\n",
    "\n",
    "grid_x, grid_y = np.mgrid[0:1:50j, 0:1:50j]\n",
    "rng = np.random.default_rng()\n",
    "points = rng.random((1000, 2))\n",
    "values = func(points[:,0], points[:,1])\n",
    "from scipy.interpolate import griddata\n",
    "grid_z0 = griddata(points, values, (grid_x, grid_y), method='nearest')\n",
    "grid_z1 = griddata(points, values, (grid_x, grid_y), method='linear')\n",
    "grid_z2 = griddata(points, values, (grid_x, grid_y), method='cubic')\n",
    "\n",
    "#grid_custom = np.asarray([[0.2,0.5], [0.3,0.7], [0.2,0.2], [0.8, 0.9]])\n",
    "grid_custom = rng.random((300,2))\n",
    "grid_z3 = griddata(points, values, grid_custom, method='cubic')"
   ]
  },
  {
   "cell_type": "code",
   "execution_count": 214,
   "metadata": {},
   "outputs": [
    {
     "data": {
      "application/vnd.jupyter.widget-view+json": {
       "model_id": "1142fe1f80ad4b669c900bd5e23c757f",
       "version_major": 2,
       "version_minor": 0
      },
      "text/plain": [
       "Canvas(toolbar=Toolbar(toolitems=[('Home', 'Reset original view', 'home', 'home'), ('Back', 'Back to previous …"
      ]
     },
     "metadata": {},
     "output_type": "display_data"
    },
    {
     "data": {
      "text/plain": [
       "[<matplotlib.lines.Line2D at 0x7f38294490f0>]"
      ]
     },
     "execution_count": 214,
     "metadata": {},
     "output_type": "execute_result"
    }
   ],
   "source": [
    "%matplotlib widget\n",
    "\n",
    "plt.imshow(grid_z2, origin='lower', extent=[0,1,0,1])\n",
    "plt.plot(points[:,0], points[:,1], 'k.')"
   ]
  },
  {
   "cell_type": "code",
   "execution_count": 217,
   "metadata": {},
   "outputs": [
    {
     "data": {
      "application/vnd.jupyter.widget-view+json": {
       "model_id": "a0bab521daf34d15bd8ddfd12b5ff6c7",
       "version_major": 2,
       "version_minor": 0
      },
      "text/plain": [
       "Canvas(toolbar=Toolbar(toolitems=[('Home', 'Reset original view', 'home', 'home'), ('Back', 'Back to previous …"
      ]
     },
     "metadata": {},
     "output_type": "display_data"
    },
    {
     "name": "stderr",
     "output_type": "stream",
     "text": [
      "/home/gabriel/anaconda3/envs/hazel_env1/lib/python3.6/site-packages/ipykernel_launcher.py:5: UserWarning: Z contains NaN values. This may result in rendering artifacts.\n",
      "  \"\"\"\n"
     ]
    },
    {
     "data": {
      "text/plain": [
       "[<mpl_toolkits.mplot3d.art3d.Line3D at 0x7f382aa94d68>]"
      ]
     },
     "execution_count": 217,
     "metadata": {},
     "output_type": "execute_result"
    }
   ],
   "source": [
    "%matplotlib widget\n",
    "\n",
    "fig = plt.figure(figsize=(8, 8))\n",
    "ax = plt.axes(projection='3d')\n",
    "surf = ax.plot_surface(grid_x, grid_y, grid_z2, rstride=1, cstride=1, cmap='coolwarm', edgecolor='none', alpha=0.2)\n",
    "ax.set_xlabel('x')\n",
    "ax.set_ylabel('y')\n",
    "ax.set_zlabel('PDF')\n",
    "ax.set_title('Surface plot of Gaussian 2D KDE')\n",
    "fig.colorbar(surf, shrink=0.5, aspect=5) # add color bar indicating the PDF\n",
    "ax.view_init(20, 20)\n",
    "\n",
    "ax.plot(grid_custom[:,0], grid_custom[:,1], grid_z3, 'k.')"
   ]
  },
  {
   "cell_type": "markdown",
   "metadata": {},
   "source": [
    "# Load the MURaM data cubes"
   ]
  },
  {
   "cell_type": "code",
   "execution_count": 17,
   "metadata": {},
   "outputs": [],
   "source": [
    "def inttostring(ii,ts_size=7):\n",
    "    str_num = str(ii)\n",
    "    for bb in range(len(str_num),ts_size,1):\n",
    "        str_num = '0'+str_num\n",
    "    \n",
    "    return str_num\n",
    "\n",
    "def read_var_3d(dir,var,iter, layout=None):\n",
    "    \"\"\"\n",
    "    The data collection for the Flare simulation does not include a\n",
    "    Header type file so the simulation details are hard-coded.\n",
    "    \"\"\"\n",
    "             \n",
    "    size = [512,768,256]  # Shape of the data inside the binary files. (nx,nz,ny)\n",
    "    dx = [192e5, 192e5, 64e5] # x,y,z dimensions in [cm]\n",
    "    \n",
    "    x = np.arange(size[0])*dx[0] - 49.156e8\n",
    "    y = np.arange(size[2])*dx[1] - 24.576e8\n",
    "    z = np.arange(size[1])*dx[2] - 7.5e8\n",
    "    \n",
    "    tmp = np.fromfile(dir+var+'.'+ inttostring(iter,ts_size=7),dtype=np.float32)\n",
    "    tmp = tmp.reshape([size[2],size[1],size[0]]) # Python reads the arrays in reverse order\n",
    "    # Re-arrange the data from [y,z,x] ==> [x,y,z] \n",
    "    tmp = tmp.transpose([2,0,1])  \n",
    "    \n",
    "    return tmp,dx,size,x,y,z"
   ]
  },
  {
   "cell_type": "code",
   "execution_count": 19,
   "metadata": {},
   "outputs": [],
   "source": [
    "# Load the data arrays.\n",
    "sc = 1.e-8 # Scaling factor to convert axes to Mm\n",
    "temp,dx,size,x,y,z = read_var_3d(data_dir, 'eosT', 270000)  # Temperature in K\n",
    "pres,dx,size,x,y,z = read_var_3d(data_dir, 'eosP', 270000)\n",
    "rho,dx,size,x,y,z = read_var_3d(data_dir, 'result_prim_0', 270000)\n",
    "\n",
    "# Calculate the electron density assuming the ideal gas law.\n",
    "#1.913 * P = n_ekT\n",
    "kb = 1.380649e-16\n",
    "dens = 1.913 * pres/(temp * kb) # cm^-3\n",
    "\n",
    "# Alternatively the mean number density of protons \n",
    "# can be calculated by dividing the mean mass density by the proton mass mp = 1.67e-24 g\n",
    "#mp = 1.57e-24\n",
    "#rho1 = rho/mp\n"
   ]
  },
  {
   "cell_type": "code",
   "execution_count": 22,
   "metadata": {},
   "outputs": [],
   "source": [
    "# Threshold the density since my response function \n",
    "# grid only covers 5<log(ne)<15 \n",
    "# \n",
    "\n",
    "dens_lim_high = np.where(np.log10(dens) > 15)\n",
    "dens_lim_low = np.where(np.log10(dens) < 5)\n",
    "\n",
    "dens[dens_lim_high] = 10**15.0\n",
    "dens[dens_lim_low] = 10**5"
   ]
  },
  {
   "cell_type": "code",
   "execution_count": 14,
   "metadata": {},
   "outputs": [
    {
     "data": {
      "application/vnd.jupyter.widget-view+json": {
       "model_id": "5c0289353a5d413db78c90d861dd685a",
       "version_major": 2,
       "version_minor": 0
      },
      "text/plain": [
       "Canvas(toolbar=Toolbar(toolitems=[('Home', 'Reset original view', 'home', 'home'), ('Back', 'Back to previous …"
      ]
     },
     "metadata": {},
     "output_type": "display_data"
    },
    {
     "data": {
      "text/plain": [
       "(5.0, 15.0)"
      ]
     },
     "execution_count": 14,
     "metadata": {},
     "output_type": "execute_result"
    }
   ],
   "source": [
    "%matplotlib widget\n",
    "\n",
    "plt.plot(z*sc, np.log10(dens[200,200,:]))\n",
    "#plt.plot(z*sc, np.log10(rho1[200,200,:]))\n",
    "\n",
    "plt.ylim(5,15)\n"
   ]
  },
  {
   "cell_type": "code",
   "execution_count": 21,
   "metadata": {},
   "outputs": [
    {
     "data": {
      "application/vnd.jupyter.widget-view+json": {
       "model_id": "6d0aac7540e540fb9252ac97e00d762c",
       "version_major": 2,
       "version_minor": 0
      },
      "text/plain": [
       "Canvas(toolbar=Toolbar(toolitems=[('Home', 'Reset original view', 'home', 'home'), ('Back', 'Back to previous …"
      ]
     },
     "metadata": {},
     "output_type": "display_data"
    },
    {
     "data": {
      "text/plain": [
       "Text(0, 0.5, 'z [Mm]')"
      ]
     },
     "execution_count": 21,
     "metadata": {},
     "output_type": "execute_result"
    }
   ],
   "source": [
    "# Plot some slices through the data array as a test.\n",
    "\n",
    "%matplotlib widget\n",
    "\n",
    "image_display, ax = plt.subplots(nrows=1, ncols=3, figsize=[10,4], dpi=100)\n",
    "image_display.subplots_adjust(bottom=0.15, top=0.9, left=0.05, right=0.95,                               \n",
    "                              wspace=0.3, hspace=0.2) \n",
    "\n",
    "# Choose something to plot\n",
    "testarr = temp\n",
    "\n",
    "# Slice in the y-z plane\n",
    "xin = 400\n",
    "ax[0].imshow(testarr[xin,:,:].transpose(), origin='lower', extent=[y[0]*sc, y[-1]*sc, z[0]*sc, z[-1]*sc],\n",
    "            aspect='equal')\n",
    "ax[0].set_title('Slice at x={0:4.2f} Mm'.format(x[xin]*sc))\n",
    "ax[0].set_xlabel('y [Mm]')\n",
    "ax[0].set_ylabel('z [Mm]')\n",
    "\n",
    "# Slice in the x-y plane at some height z\n",
    "zin = 300\n",
    "ax[1].imshow(testarr[:,:,zin].transpose(), origin='lower', extent=[x[0]*sc, x[-1]*sc, y[0]*sc, y[-1]*sc],\n",
    "            aspect='equal')\n",
    "\n",
    "ax[1].set_title('Slice at z={0:4.2f} Mm'.format(z[zin]*sc))\n",
    "ax[1].set_xlabel('x [Mm]')\n",
    "ax[1].set_ylabel('y [Mm]')\n",
    "\n",
    "# Slice in the x-z plane\n",
    "yin = 100\n",
    "ax[2].imshow(testarr[:,yin,:].transpose(), origin='lower', extent=[x[0]*sc, x[-1]*sc, z[0]*sc, z[-1]*sc], \n",
    "                aspect='equal')\n",
    "ax[2].set_title('Slice at y={0:4.2f} Mm'.format(y[yin]*sc))\n",
    "ax[2].set_xlabel('x [Mm]')\n",
    "ax[2].set_ylabel('z [Mm]')"
   ]
  },
  {
   "cell_type": "markdown",
   "metadata": {},
   "source": [
    "# Calculate the response at each voxel."
   ]
  },
  {
   "cell_type": "code",
   "execution_count": 23,
   "metadata": {},
   "outputs": [],
   "source": [
    "# Create the interpolated function and calculate it at the desired densities/temperatures.\n",
    "\n",
    "aia_ch = 2\n",
    "f = aia_resp_trf[aia_ch,:,:] # Load a 2D density x temperature temperature response function.\n",
    "\n",
    "xxx,yyy = np.meshgrid(np.log10(dens_trf),np.log10(temp_trf))  # Reform the density and temperature arrays.\n",
    "dens_temp = np.asarray([xxx.flatten(), yyy.flatten()]).transpose()\n",
    "\n",
    "# Calculate the interpolated response function values at the model densities and temperatures\n",
    "# I should be able to replace grid_custom = (density(x,y,z), temperature(x,y,z)) and the result with be in (x,y,z)\n",
    "# which is the shape of the data cubes.\n",
    "grid_custom = (np.log10(dens), np.log10(temp))\n",
    "grid_test = griddata(dens_temp, f.flatten(), grid_custom, method='cubic')  # Find the interpolated values.\n",
    "\n"
   ]
  },
  {
   "cell_type": "code",
   "execution_count": 24,
   "metadata": {},
   "outputs": [],
   "source": [
    "# Calculate the emissivity\n",
    "grid_emiss = grid_test * dens**2"
   ]
  },
  {
   "cell_type": "code",
   "execution_count": 25,
   "metadata": {},
   "outputs": [],
   "source": [
    "# Find NaN values and set to 0\n",
    "grid_emiss[np.isnan(grid_emiss)] = 0.0"
   ]
  },
  {
   "cell_type": "code",
   "execution_count": 26,
   "metadata": {},
   "outputs": [
    {
     "data": {
      "application/vnd.jupyter.widget-view+json": {
       "model_id": "0cb565d9aeb04026991b22194e6bb662",
       "version_major": 2,
       "version_minor": 0
      },
      "text/plain": [
       "Canvas(toolbar=Toolbar(toolitems=[('Home', 'Reset original view', 'home', 'home'), ('Back', 'Back to previous …"
      ]
     },
     "metadata": {},
     "output_type": "display_data"
    },
    {
     "data": {
      "text/plain": [
       "Text(0, 0.5, 'z [Mm]')"
      ]
     },
     "execution_count": 26,
     "metadata": {},
     "output_type": "execute_result"
    }
   ],
   "source": [
    "# Plot some slices through the data array as a test.\n",
    "\n",
    "%matplotlib widget\n",
    "\n",
    "image_display, ax = plt.subplots(nrows=1, ncols=3, figsize=[10,4], dpi=100)\n",
    "image_display.subplots_adjust(bottom=0.15, top=0.9, left=0.05, right=0.95,                               \n",
    "                              wspace=0.3, hspace=0.2) \n",
    "\n",
    "# Choose something to plot\n",
    "testarr = grid_emiss\n",
    "\n",
    "aia_cmaps[aia_ch].set_bad(color='red')  # Set the NaN values to be shown with red.\n",
    "\n",
    "# Slice in the y-z plane\n",
    "xin = 300\n",
    "tt = ax[0].imshow(testarr[xin,:,:].transpose()*dx[0]*500, origin='lower', extent=[y[0]*sc, y[-1]*sc, z[0]*sc, z[-1]*sc],\n",
    "            aspect='equal', cmap=aia_cmaps[aia_ch], interpolation='none', vmin=0, vmax=10000)\n",
    "ax[0].set_title('Slice at x={0:4.2f} Mm'.format(x[xin]*sc))\n",
    "ax[0].set_xlabel('y [Mm]')\n",
    "ax[0].set_ylabel('z [Mm]')\n",
    "\n",
    "# Slice in the x-y plane at some height z\n",
    "zin = 400\n",
    "ax[1].imshow(testarr[:,:,zin].transpose()*dx[2]*500, origin='lower', extent=[x[0]*sc, x[-1]*sc, y[0]*sc, y[-1]*sc],\n",
    "            aspect='equal', cmap=aia_cmaps[aia_ch], interpolation='none', vmin=0, vmax=10000)\n",
    "\n",
    "ax[1].set_title('Slice at z={0:4.2f} Mm'.format(z[zin]*sc))\n",
    "ax[1].set_xlabel('x [Mm]')\n",
    "ax[1].set_ylabel('y [Mm]')\n",
    "\n",
    "# Slice in the x-z plane\n",
    "yin = 150\n",
    "ax[2].imshow(testarr[:,yin,:].transpose()*dx[1]*500, origin='lower', extent=[x[0]*sc, x[-1]*sc, z[0]*sc, z[-1]*sc], \n",
    "                aspect='equal', cmap=aia_cmaps[aia_ch], interpolation='none', vmin=0, vmax=10000)\n",
    "ax[2].set_title('Slice at y={0:4.2f} Mm'.format(y[yin]*sc))\n",
    "ax[2].set_xlabel('x [Mm]')\n",
    "ax[2].set_ylabel('z [Mm]')"
   ]
  },
  {
   "cell_type": "code",
   "execution_count": 183,
   "metadata": {},
   "outputs": [
    {
     "data": {
      "text/plain": [
       "<matplotlib.axes._subplots.AxesSubplot at 0x7f242bed70b8>"
      ]
     },
     "execution_count": 183,
     "metadata": {},
     "output_type": "execute_result"
    }
   ],
   "source": [
    "ax[0]"
   ]
  }
 ],
 "metadata": {
  "kernelspec": {
   "display_name": "Python [conda env:hazel_env1] *",
   "language": "python",
   "name": "conda-env-hazel_env1-py"
  },
  "language_info": {
   "codemirror_mode": {
    "name": "ipython",
    "version": 3
   },
   "file_extension": ".py",
   "mimetype": "text/x-python",
   "name": "python",
   "nbconvert_exporter": "python",
   "pygments_lexer": "ipython3",
   "version": "3.6.10"
  },
  "toc-autonumbering": true,
  "widgets": {
   "application/vnd.jupyter.widget-state+json": {
    "state": {
     "016614fd58e841fe99643e9cb1fa6dfa": {
      "model_module": "@jupyter-widgets/base",
      "model_module_version": "1.2.0",
      "model_name": "LayoutModel",
      "state": {}
     },
     "0cb565d9aeb04026991b22194e6bb662": {
      "model_module": "jupyter-matplotlib",
      "model_module_version": "^0.7.2",
      "model_name": "MPLCanvasModel",
      "state": {
       "_cursor": "default",
       "_figure_label": "Figure 1",
       "_height": 400,
       "_image_mode": "diff",
       "_width": 1000,
       "layout": "IPY_MODEL_b8a4af818ca542f5a110572c58e4f1fa",
       "toolbar": "IPY_MODEL_0fc5e30d91bf4372aebbf441fbab3eec",
       "toolbar_position": "left"
      }
     },
     "0fc5e30d91bf4372aebbf441fbab3eec": {
      "model_module": "jupyter-matplotlib",
      "model_module_version": "^0.7.2",
      "model_name": "ToolbarModel",
      "state": {
       "layout": "IPY_MODEL_a3b03637d79341ecb952cfe3ae7eb60e",
       "toolitems": [
        [
         "Home",
         "Reset original view",
         "home",
         "home"
        ],
        [
         "Back",
         "Back to previous view",
         "arrow-left",
         "back"
        ],
        [
         "Forward",
         "Forward to next view",
         "arrow-right",
         "forward"
        ],
        [
         "Pan",
         "Pan axes with left mouse, zoom with right",
         "arrows",
         "pan"
        ],
        [
         "Zoom",
         "Zoom to rectangle",
         "square-o",
         "zoom"
        ],
        [
         "Download",
         "Download plot",
         "floppy-o",
         "save_figure"
        ]
       ]
      }
     },
     "1d1a2a5f033e401ba2f89b10ae0488c4": {
      "model_module": "@jupyter-widgets/base",
      "model_module_version": "1.2.0",
      "model_name": "LayoutModel",
      "state": {}
     },
     "21c751fd7c6141fe9cba049054c61a24": {
      "model_module": "@jupyter-widgets/base",
      "model_module_version": "1.2.0",
      "model_name": "LayoutModel",
      "state": {}
     },
     "297a35ded930461da31e8cf65b7e39ba": {
      "model_module": "jupyter-matplotlib",
      "model_module_version": "^0.7.2",
      "model_name": "ToolbarModel",
      "state": {
       "layout": "IPY_MODEL_eea03454698347479652a1d39a02fb6d",
       "toolitems": [
        [
         "Home",
         "Reset original view",
         "home",
         "home"
        ],
        [
         "Back",
         "Back to previous view",
         "arrow-left",
         "back"
        ],
        [
         "Forward",
         "Forward to next view",
         "arrow-right",
         "forward"
        ],
        [
         "Pan",
         "Pan axes with left mouse, zoom with right",
         "arrows",
         "pan"
        ],
        [
         "Zoom",
         "Zoom to rectangle",
         "square-o",
         "zoom"
        ],
        [
         "Download",
         "Download plot",
         "floppy-o",
         "save_figure"
        ]
       ]
      }
     },
     "29f4facaf3f64923af8c94227711147d": {
      "model_module": "jupyter-matplotlib",
      "model_module_version": "^0.7.2",
      "model_name": "ToolbarModel",
      "state": {
       "layout": "IPY_MODEL_c77d52b13b8d495a8e232f3863d4c519",
       "toolitems": [
        [
         "Home",
         "Reset original view",
         "home",
         "home"
        ],
        [
         "Back",
         "Back to previous view",
         "arrow-left",
         "back"
        ],
        [
         "Forward",
         "Forward to next view",
         "arrow-right",
         "forward"
        ],
        [
         "Pan",
         "Pan axes with left mouse, zoom with right",
         "arrows",
         "pan"
        ],
        [
         "Zoom",
         "Zoom to rectangle",
         "square-o",
         "zoom"
        ],
        [
         "Download",
         "Download plot",
         "floppy-o",
         "save_figure"
        ]
       ]
      }
     },
     "36737945f49741c2b951a4f74e4b13a0": {
      "model_module": "jupyter-matplotlib",
      "model_module_version": "^0.7.2",
      "model_name": "ToolbarModel",
      "state": {
       "layout": "IPY_MODEL_69b769e0acca45f498f210ce73febc1a",
       "toolitems": [
        [
         "Home",
         "Reset original view",
         "home",
         "home"
        ],
        [
         "Back",
         "Back to previous view",
         "arrow-left",
         "back"
        ],
        [
         "Forward",
         "Forward to next view",
         "arrow-right",
         "forward"
        ],
        [
         "Pan",
         "Pan axes with left mouse, zoom with right",
         "arrows",
         "pan"
        ],
        [
         "Zoom",
         "Zoom to rectangle",
         "square-o",
         "zoom"
        ],
        [
         "Download",
         "Download plot",
         "floppy-o",
         "save_figure"
        ]
       ]
      }
     },
     "69b769e0acca45f498f210ce73febc1a": {
      "model_module": "@jupyter-widgets/base",
      "model_module_version": "1.2.0",
      "model_name": "LayoutModel",
      "state": {}
     },
     "9ee8bf6a287445b8aee0b4c0f96aed4a": {
      "model_module": "@jupyter-widgets/base",
      "model_module_version": "1.2.0",
      "model_name": "LayoutModel",
      "state": {}
     },
     "a3b03637d79341ecb952cfe3ae7eb60e": {
      "model_module": "@jupyter-widgets/base",
      "model_module_version": "1.2.0",
      "model_name": "LayoutModel",
      "state": {}
     },
     "b8a4af818ca542f5a110572c58e4f1fa": {
      "model_module": "@jupyter-widgets/base",
      "model_module_version": "1.2.0",
      "model_name": "LayoutModel",
      "state": {}
     },
     "c77d52b13b8d495a8e232f3863d4c519": {
      "model_module": "@jupyter-widgets/base",
      "model_module_version": "1.2.0",
      "model_name": "LayoutModel",
      "state": {}
     },
     "d685abd7397d4bf696c04bd71b44967f": {
      "model_module": "@jupyter-widgets/base",
      "model_module_version": "1.2.0",
      "model_name": "LayoutModel",
      "state": {}
     },
     "e6f4dcf1855d4a8b8d0207df98f806ff": {
      "model_module": "jupyter-matplotlib",
      "model_module_version": "^0.7.2",
      "model_name": "ToolbarModel",
      "state": {
       "layout": "IPY_MODEL_016614fd58e841fe99643e9cb1fa6dfa",
       "toolitems": [
        [
         "Home",
         "Reset original view",
         "home",
         "home"
        ],
        [
         "Back",
         "Back to previous view",
         "arrow-left",
         "back"
        ],
        [
         "Forward",
         "Forward to next view",
         "arrow-right",
         "forward"
        ],
        [
         "Pan",
         "Pan axes with left mouse, zoom with right",
         "arrows",
         "pan"
        ],
        [
         "Zoom",
         "Zoom to rectangle",
         "square-o",
         "zoom"
        ],
        [
         "Download",
         "Download plot",
         "floppy-o",
         "save_figure"
        ]
       ]
      }
     },
     "eea03454698347479652a1d39a02fb6d": {
      "model_module": "@jupyter-widgets/base",
      "model_module_version": "1.2.0",
      "model_name": "LayoutModel",
      "state": {}
     }
    },
    "version_major": 2,
    "version_minor": 0
   }
  }
 },
 "nbformat": 4,
 "nbformat_minor": 4
}
